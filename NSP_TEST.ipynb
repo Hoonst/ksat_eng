{
 "cells": [
  {
   "cell_type": "markdown",
   "id": "accompanied-illness",
   "metadata": {},
   "source": [
    "# Next Sentence Prediction With BERT\n",
    "\n",
    "* HuggingFace의 BERTNSP를 통해 순서 문제를 풀어보고자 함\n",
    "* 기본으로 박스의 지문에서 시작하여\n",
    "* (A), (B), (C)의 문장을 한번씩 Pair로 사용하여 확률을 계산한다.\n",
    "* 최대 확률을 2번째 문장으로 잡고 3번째 문장을 예측하면, 4번째 문장까지 바로 구할 수 있다."
   ]
  },
  {
   "cell_type": "code",
   "execution_count": 1,
   "id": "covered-order",
   "metadata": {},
   "outputs": [],
   "source": [
    "from torch.nn.functional import softmax\n",
    "from transformers import BertForNextSentencePrediction, BertTokenizer"
   ]
  },
  {
   "cell_type": "code",
   "execution_count": null,
   "id": "fleet-richards",
   "metadata": {},
   "outputs": [],
   "source": [
    "# load pretrained model and a pretrained tokenizer\n",
    "model = BertForNextSentencePrediction.from_pretrained('bert-base-cased')\n",
    "tokenizer = BertTokenizer.from_pretrained('bert-base-cased')"
   ]
  },
  {
   "cell_type": "code",
   "execution_count": 169,
   "id": "spiritual-islam",
   "metadata": {},
   "outputs": [],
   "source": [
    "seq_A = 'I like cookies !'\n",
    "seq_B = 'Do you like them ?'\n",
    "seq_C = 'I fell in love with that woman'"
   ]
  },
  {
   "cell_type": "code",
   "execution_count": 410,
   "id": "average-valuable",
   "metadata": {},
   "outputs": [],
   "source": [
    "def nsp(criterion_sentence, next_sentence, verbose = 0):\n",
    "    encoded = tokenizer.encode_plus(criterion_sentence, text_pair=next_sentence, return_tensors='pt')\n",
    "\n",
    "    seq_relationship_logits = model(**encoded)[0]\n",
    "\n",
    "    # we still need softmax to convert the logits into probabilities\n",
    "    # index 0: sequence B is a continuation of sequence A\n",
    "    # index 1: sequence B is a random sequence\n",
    "    probs = softmax(seq_relationship_logits, dim=1)\n",
    "    if verbose != 0:\n",
    "        print(f'{criterion_sentence} \\n >>>  {next_sentence} \\n')\n",
    "    return probs"
   ]
  },
  {
   "cell_type": "code",
   "execution_count": 407,
   "id": "piano-portugal",
   "metadata": {},
   "outputs": [
    {
     "name": "stdout",
     "output_type": "stream",
     "text": [
      "I like cookies ! \n",
      " >>>  I fell in love with that woman \n",
      "\n",
      "tensor([[0.4180, 0.5820]], grad_fn=<SoftmaxBackward>)\n",
      "I like cookies ! \n",
      " >>>  Do you like them ? \n",
      "\n",
      "tensor([[9.9993e-01, 6.7607e-05]], grad_fn=<SoftmaxBackward>)\n"
     ]
    }
   ],
   "source": [
    "# seq_A와 seq_C는 확률이 적지만, seq_A와 seq_B는 확률이 높다!\n",
    "\n",
    "print(nsp(seq_A, seq_C))\n",
    "print(nsp(seq_A, seq_B))"
   ]
  },
  {
   "cell_type": "markdown",
   "id": "blond-sunglasses",
   "metadata": {},
   "source": [
    "# 2020 / 21 수능 순서 문제에 적용"
   ]
  },
  {
   "cell_type": "code",
   "execution_count": 413,
   "id": "hidden-respect",
   "metadata": {},
   "outputs": [],
   "source": [
    "# 2020 수능 영어 짝수형 37번 - 2번: BAC\n",
    "\n",
    "first = 'Traditionally, Kuhn claims, the primary goal of historians of science was ‘to clarify and deepen an understanding of contemporary scientific methods or concepts by displaying their evolution’.'\n",
    "sentences = {'A': 'Some discoveries seem to entail numerous phases and discoverers, none of which can be identified as definitive. Furthermore, the evaluation of past discoveries and discoverers according to present-day standards does not allow us to see how significant they may have been in their own day.',\n",
    "             'B': 'This entailed relating the progressive accumulation of breakthroughs and discoveries. Only that which survived in some form in the present was considered relevant. In the mid-1950s, however, a number of faults in this view of history became apparent. Closer analysis of scientific discoveries, for instance, led historians to ask whether the dates of discoveries and their discoverers can be identified precisely.',\n",
    "             'C': 'Nor does the traditional view recognise the role that non-intellectual factors, especially institutional and socio-economic ones, play in scientific developments. Most importantly, however, the traditional historian of science seems blind to the fact that the concepts, questions and standards that they use to frame the past are themselves subject to historical change.'}\n",
    "\n",
    "def sentence_order(first,sentences):\n",
    "    sentence = sentences.copy()\n",
    "    start = first\n",
    "    answer_sent = [first]\n",
    "    answer_index = []\n",
    "    \n",
    "    while len(sentence) > 1:\n",
    "        sent_dic = {}\n",
    "        for s_key in sentence.keys():\n",
    "            false_prob = nsp(start, sentence[s_key])[0][1]\n",
    "            sent_dic[s_key] = false_prob\n",
    "            \n",
    "        min_prob = min(sent_dic.items(), key=lambda x: x[1])\n",
    "\n",
    "        start = start +' '+sentence[min_prob[0]]\n",
    "\n",
    "        answer_index.append(min_prob[0])\n",
    "        answer_sent.append(sentence.pop(min_prob[0]))\n",
    "        \n",
    "    # last sentence append\n",
    "    answer_sent.append(list(sentence.values())[0])\n",
    "    answer_index.append(list(sentence.keys())[0])\n",
    "    \n",
    "    return answer_sent, answer_index\n",
    "\n",
    "\n",
    "whole_sentence, answer = sentence_order(first, sentences)"
   ]
  },
  {
   "cell_type": "code",
   "execution_count": 415,
   "id": "guided-wrong",
   "metadata": {},
   "outputs": [
    {
     "name": "stdout",
     "output_type": "stream",
     "text": [
      "Traditionally, Kuhn claims, the primary goal of historians of science was ‘to clarify and deepen an understanding of contemporary scientific methods or concepts by displaying their evolution’. This entailed relating the progressive accumulation of breakthroughs and discoveries. Only that which survived in some form in the present was considered relevant. In the mid-1950s, however, a number of faults in this view of history became apparent. Closer analysis of scientific discoveries, for instance, led historians to ask whether the dates of discoveries and their discoverers can be identified precisely. Some discoveries seem to entail numerous phases and discoverers, none of which can be identified as definitive. Furthermore, the evaluation of past discoveries and discoverers according to present-day standards does not allow us to see how significant they may have been in their own day. Nor does the traditional view recognise the role that non-intellectual factors, especially institutional and socio-economic ones, play in scientific developments. Most importantly, however, the traditional historian of science seems blind to the fact that the concepts, questions and standards that they use to frame the past are themselves subject to historical change.\n"
     ]
    }
   ],
   "source": [
    "print(' '.join(whole_sentence))"
   ]
  },
  {
   "cell_type": "code",
   "execution_count": 417,
   "id": "magnetic-correction",
   "metadata": {},
   "outputs": [
    {
     "ename": "SyntaxError",
     "evalue": "invalid syntax (<ipython-input-417-cc7c300bd872>, line 1)",
     "output_type": "error",
     "traceback": [
      "\u001b[0;36m  File \u001b[0;32m\"<ipython-input-417-cc7c300bd872>\"\u001b[0;36m, line \u001b[0;32m1\u001b[0m\n\u001b[0;31m    print(f'Answer is {'=>'.join(answer)}')\u001b[0m\n\u001b[0m                         ^\u001b[0m\n\u001b[0;31mSyntaxError\u001b[0m\u001b[0;31m:\u001b[0m invalid syntax\n"
     ]
    }
   ],
   "source": [
    "print(f'Answer is {'=>'.join(answer)}')"
   ]
  },
  {
   "cell_type": "code",
   "execution_count": null,
   "id": "parental-pizza",
   "metadata": {},
   "outputs": [],
   "source": []
  },
  {
   "cell_type": "code",
   "execution_count": null,
   "id": "alert-render",
   "metadata": {},
   "outputs": [],
   "source": []
  },
  {
   "cell_type": "code",
   "execution_count": 412,
   "id": "mature-montgomery",
   "metadata": {},
   "outputs": [],
   "source": [
    "# Answer 2: B-A-C\n",
    "first = \"The objective of battle, to “throw” the enemy and to make him defenseless, may temporarily blind commanders and even strategists to the larger purpose of war. War is never an isolated act, nor is it ever only one decision.\"\n",
    "\n",
    "sentences = {'A': \"To be political, a political entity or a representative of a political entity, whatever its constitutional form, has to have an intention, a will. That intention has to be clearly expressed.\",\n",
    "            'B':\"In the real world, war’s larger purpose is always a political purpose. It transcends the use of force. This insight was famously captured by Clausewitz’s most famous phrase, “War is a mere continuation of politics by other means.\",\n",
    "            'C':\"And one side’s will has to be transmitted to the enemy at some point during the confrontation (it does not have to be publicly communicated). A violent act and its larger political intention must also be attributed to one side at some point during the confrontation. History does not know of acts of war without eventual attribution.\"}\n",
    "A = \"To be political, a political entity or a representative of a political entity, whatever its constitutional form, has to have an intention, a will. That intention has to be clearly expressed.\"\n",
    "B = \"In the real world, war’s larger purpose is always a political purpose. It transcends the use of force. This insight was famously captured by Clausewitz’s most famous phrase, “War is a mere continuation of politics by other means.\"\n",
    "C = \"And one side’s will has to be transmitted to the enemy at some point during the confrontation (it does not have to be publicly communicated). A violent act and its larger political intention must also be attributed to one side at some point during the confrontation. History does not know of acts of war without eventual attribution.\""
   ]
  },
  {
   "cell_type": "code",
   "execution_count": 393,
   "id": "indie-turkish",
   "metadata": {},
   "outputs": [
    {
     "name": "stdout",
     "output_type": "stream",
     "text": [
      "The objective of battle, to “throw” the enemy and to make him defenseless, may temporarily blind commanders and even strategists to the larger purpose of war. War is never an isolated act, nor is it ever only one decision. \n",
      " >>>  To be political, a political entity or a representative of a political entity, whatever its constitutional form, has to have an intention, a will. That intention has to be clearly expressed. \n",
      "\n",
      "The objective of battle, to “throw” the enemy and to make him defenseless, may temporarily blind commanders and even strategists to the larger purpose of war. War is never an isolated act, nor is it ever only one decision. \n",
      " >>>  In the real world, war’s larger purpose is always a political purpose. It transcends the use of force. This insight was famously captured by Clausewitz’s most famous phrase, “War is a mere continuation of politics by other means. \n",
      "\n",
      "The objective of battle, to “throw” the enemy and to make him defenseless, may temporarily blind commanders and even strategists to the larger purpose of war. War is never an isolated act, nor is it ever only one decision. \n",
      " >>>  And one side’s will has to be transmitted to the enemy at some point during the confrontation (it does not have to be publicly communicated). A violent act and its larger political intention must also be attributed to one side at some point during the confrontation. History does not know of acts of war without eventual attribution. \n",
      "\n"
     ]
    },
    {
     "data": {
      "text/plain": [
       "tensor([[9.9998e-01, 1.9218e-05]], grad_fn=<SoftmaxBackward>)"
      ]
     },
     "execution_count": 393,
     "metadata": {},
     "output_type": "execute_result"
    }
   ],
   "source": [
    "nsp(first, A)\n",
    "nsp(first, B)\n",
    "nsp(first, C)"
   ]
  },
  {
   "cell_type": "code",
   "execution_count": 394,
   "id": "discrete-wisconsin",
   "metadata": {},
   "outputs": [
    {
     "name": "stdout",
     "output_type": "stream",
     "text": [
      "In the real world, war’s larger purpose is always a political purpose. It transcends the use of force. This insight was famously captured by Clausewitz’s most famous phrase, “War is a mere continuation of politics by other means. \n",
      " >>>  To be political, a political entity or a representative of a political entity, whatever its constitutional form, has to have an intention, a will. That intention has to be clearly expressed. \n",
      "\n",
      "tensor([[9.9984e-01, 1.6341e-04]], grad_fn=<SoftmaxBackward>)\n",
      "In the real world, war’s larger purpose is always a political purpose. It transcends the use of force. This insight was famously captured by Clausewitz’s most famous phrase, “War is a mere continuation of politics by other means. \n",
      " >>>  And one side’s will has to be transmitted to the enemy at some point during the confrontation (it does not have to be publicly communicated). A violent act and its larger political intention must also be attributed to one side at some point during the confrontation. History does not know of acts of war without eventual attribution. \n",
      "\n",
      "tensor([[9.9998e-01, 1.7340e-05]], grad_fn=<SoftmaxBackward>)\n"
     ]
    }
   ],
   "source": [
    "print(nsp(B, A))\n",
    "print(nsp(B, C))"
   ]
  },
  {
   "cell_type": "code",
   "execution_count": 379,
   "id": "through-bruce",
   "metadata": {},
   "outputs": [],
   "source": [
    "# Answer 5: C-B-A\n",
    "first = \"Experts have identified a large number of measures that promote energy efficiency. Unfortunately many of them are not cost effective. This is a fundamental requirement for energy efficiency investment from an economic perspective.\"\n",
    "\n",
    "sentences = {'A': \"And this has direct repercussions at the individual level: households can reduce the cost of electricity and gas bills, and improve their health and comfort, while companies can increase their competitiveness and their productivity. Finally, the market for energy efficiency could contribute to the economy through job and firms creation.\",\n",
    "             'B': \"There are significant externalities to take into account and there are also macroeconomic effects. For instance, at the aggregate level, improving the level of national energy efficiency has positive effects on macroeconomic issues such as energy dependence, climate change, health, national competitiveness and reducing fuel poverty.\",\n",
    "             'C': \"However, the calculation of such cost effectiveness is not easy: it is not simply a case of looking at private costs and comparing them to the reductions achieved.\"}\n",
    "A = \"And this has direct repercussions at the individual level: households can reduce the cost of electricity and gas bills, and improve their health and comfort, while companies can increase their competitiveness and their productivity. Finally, the market for energy efficiency could contribute to the economy through job and firms creation.\"\n",
    "B = \"There are significant externalities to take into account and there are also macroeconomic effects. For instance, at the aggregate level, improving the level of national energy efficiency has positive effects on macroeconomic issues such as energy dependence, climate change, health, national competitiveness and reducing fuel poverty.\"\n",
    "C = \"However, the calculation of such cost effectiveness is not easy: it is not simply a case of looking at private costs and comparing them to the reductions achieved.\""
   ]
  },
  {
   "cell_type": "code",
   "execution_count": 186,
   "id": "noted-protection",
   "metadata": {},
   "outputs": [
    {
     "name": "stdout",
     "output_type": "stream",
     "text": [
      "Experts have identified a large number of measures that promote energy efficiency. Unfortunately many of them are not cost effective. This is a fundamental requirement for energy efficiency investment from an economic perspective. >>> And this has direct repercussions at the individual level: households can reduce the cost of electricity and gas bills, and improve their health and comfort, while companies can increase their competitiveness and their productivity. Finally, the market for energy efficiency could contribute to the economy through job and firms creation.\n",
      "tensor([[9.9999e-01, 1.3497e-05]], grad_fn=<SoftmaxBackward>)\n",
      "Experts have identified a large number of measures that promote energy efficiency. Unfortunately many of them are not cost effective. This is a fundamental requirement for energy efficiency investment from an economic perspective. >>> There are significant externalities to take into account and there are also macroeconomic effects. For instance, at the aggregate level, improving the level of national energy efficiency has positive effects on macroeconomic issues such as energy dependence, climate change, health, national competitiveness and reducing fuel poverty.\n",
      "tensor([[9.9999e-01, 1.3834e-05]], grad_fn=<SoftmaxBackward>)\n",
      "Experts have identified a large number of measures that promote energy efficiency. Unfortunately many of them are not cost effective. This is a fundamental requirement for energy efficiency investment from an economic perspective. >>> However, the calculation of such cost effectiveness is not easy: it is not simply a case of looking at private costs and comparing them to the reductions achieved.\n",
      "tensor([[9.9998e-01, 1.7454e-05]], grad_fn=<SoftmaxBackward>)\n"
     ]
    }
   ],
   "source": [
    "nsp(first, A)\n",
    "nsp(first, B)\n",
    "nsp(first, C)"
   ]
  },
  {
   "cell_type": "code",
   "execution_count": 187,
   "id": "advisory-timothy",
   "metadata": {},
   "outputs": [
    {
     "name": "stdout",
     "output_type": "stream",
     "text": [
      "And this has direct repercussions at the individual level: households can reduce the cost of electricity and gas bills, and improve their health and comfort, while companies can increase their competitiveness and their productivity. Finally, the market for energy efficiency could contribute to the economy through job and firms creation. >>> There are significant externalities to take into account and there are also macroeconomic effects. For instance, at the aggregate level, improving the level of national energy efficiency has positive effects on macroeconomic issues such as energy dependence, climate change, health, national competitiveness and reducing fuel poverty.\n",
      "tensor([[9.9999e-01, 1.4316e-05]], grad_fn=<SoftmaxBackward>)\n",
      "And this has direct repercussions at the individual level: households can reduce the cost of electricity and gas bills, and improve their health and comfort, while companies can increase their competitiveness and their productivity. Finally, the market for energy efficiency could contribute to the economy through job and firms creation. >>> However, the calculation of such cost effectiveness is not easy: it is not simply a case of looking at private costs and comparing them to the reductions achieved.\n",
      "tensor([[9.9997e-01, 2.6113e-05]], grad_fn=<SoftmaxBackward>)\n"
     ]
    }
   ],
   "source": [
    "nsp(A, B)\n",
    "nsp(A, C)"
   ]
  },
  {
   "cell_type": "code",
   "execution_count": 376,
   "id": "average-protection",
   "metadata": {},
   "outputs": [],
   "source": [
    "# 2020 수능 영어 짝수형 36번 - 5번: CBA\n",
    "\n",
    "first = 'Movies may be said to support the dominant culture and to serve as a means for its reproduction over time.'\n",
    "sentences = {'A' : 'The bad guys are usually punished; the romantic couple almost always find each other despite the obstacles and difficulties they encounter on the path to true love; and the way we wish the world to be is how, in the movies, it more often than not winds up being. No doubt it is this utopian aspect of movies that accounts for why we enjoy them so much.',\n",
    "             'B' : 'The simple answer to this question is that movies do more than present two-hour civics lessons or editorials on responsible behavior. They also tell stories that, in the end, we find satisfying.',\n",
    "             'C' : 'But one may ask why audiences would find such movies enjoyable if all they do is give cultural directives and prescriptions for proper living. Most of us would likely grow tired of such didactic movies and would probably come to see them as propaganda, similar to the cultural artwork that was common in the Soviet Union and other autocratic societies.'}"
   ]
  },
  {
   "cell_type": "code",
   "execution_count": 205,
   "id": "contained-group",
   "metadata": {},
   "outputs": [
    {
     "name": "stdout",
     "output_type": "stream",
     "text": [
      "Movies may be said to support the dominant culture and to serve as a means for its reproduction over time. \n",
      " >>>  The bad guys are usually punished; the romantic couple almost always find each other despite the obstacles and difficulties they encounter on the path to true love; and the way we wish the world to be is how, in the movies, it more often than not winds up being. No doubt it is this utopian aspect of movies that accounts for why we enjoy them so much.\n",
      "tensor([[0.9978, 0.0022]], grad_fn=<SoftmaxBackward>)\n",
      "Movies may be said to support the dominant culture and to serve as a means for its reproduction over time. \n",
      " >>>  The simple answer to this question is that movies do more than present two-hour civics lessons or editorials on responsible behavior. They also tell stories that, in the end, we find satisfying.\n",
      "tensor([[9.9998e-01, 2.4017e-05]], grad_fn=<SoftmaxBackward>)\n",
      "Movies may be said to support the dominant culture and to serve as a means for its reproduction over time. \n",
      " >>>  But one may ask why audiences would find such movies enjoyable if all they do is give cultural directives and prescriptions for proper living. Most of us would likely grow tired of such didactic movies and would probably come to see them as propaganda, similar to the cultural artwork that was common in the Soviet Union and other autocratic societies.\n",
      "tensor([[9.9998e-01, 1.5149e-05]], grad_fn=<SoftmaxBackward>)\n"
     ]
    }
   ],
   "source": [
    "nsp(first, A)\n",
    "nsp(first, B)\n",
    "nsp(first, C)"
   ]
  },
  {
   "cell_type": "code",
   "execution_count": 206,
   "id": "christian-while",
   "metadata": {},
   "outputs": [
    {
     "name": "stdout",
     "output_type": "stream",
     "text": [
      "But one may ask why audiences would find such movies enjoyable if all they do is give cultural directives and prescriptions for proper living. Most of us would likely grow tired of such didactic movies and would probably come to see them as propaganda, similar to the cultural artwork that was common in the Soviet Union and other autocratic societies. \n",
      " >>>  The bad guys are usually punished; the romantic couple almost always find each other despite the obstacles and difficulties they encounter on the path to true love; and the way we wish the world to be is how, in the movies, it more often than not winds up being. No doubt it is this utopian aspect of movies that accounts for why we enjoy them so much.\n",
      "tensor([[9.9983e-01, 1.7474e-04]], grad_fn=<SoftmaxBackward>)\n",
      "But one may ask why audiences would find such movies enjoyable if all they do is give cultural directives and prescriptions for proper living. Most of us would likely grow tired of such didactic movies and would probably come to see them as propaganda, similar to the cultural artwork that was common in the Soviet Union and other autocratic societies. \n",
      " >>>  The simple answer to this question is that movies do more than present two-hour civics lessons or editorials on responsible behavior. They also tell stories that, in the end, we find satisfying.\n",
      "tensor([[9.9999e-01, 1.4293e-05]], grad_fn=<SoftmaxBackward>)\n"
     ]
    }
   ],
   "source": [
    "nsp(C, A)\n",
    "nsp(C, B)"
   ]
  },
  {
   "cell_type": "code",
   "execution_count": 222,
   "id": "aboriginal-passage",
   "metadata": {},
   "outputs": [],
   "source": [
    "# 2020 수능 영어 짝수형 37번 - 2번: BAC\n",
    "\n",
    "first = 'Traditionally, Kuhn claims, the primary goal of historians of science was ‘to clarify and deepen an understanding of contemporary scientific methods or concepts by displaying their evolution’.'\n",
    "sentences = {'A': 'Some discoveries seem to entail numerous phases and discoverers, none of which can be identified as definitive. Furthermore, the evaluation of past discoveries and discoverers according to present-day standards does not allow us to see how significant they may have been in their own day.',\n",
    "             'B': 'This entailed relating the progressive accumulation of breakthroughs and discoveries. Only that which survived in some form in the present was considered relevant. In the mid-1950s, however, a number of faults in this view of history became apparent. Closer analysis of scientific discoveries, for instance, led historians to ask whether the dates of discoveries and their discoverers can be identified precisely.',\n",
    "             'C': 'Nor does the traditional view recognise the role that non-intellectual factors, especially institutional and socio-economic ones, play in scientific developments. Most importantly, however, the traditional historian of science seems blind to the fact that the concepts, questions and standards that they use to frame the past are themselves subject to historical change.'}"
   ]
  },
  {
   "cell_type": "code",
   "execution_count": 219,
   "id": "opposed-reality",
   "metadata": {},
   "outputs": [],
   "source": [
    "A =  'Some discoveries seem to entail numerous phases and discoverers, none of which can be identified as definitive. Furthermore, the evaluation of past discoveries and discoverers according to present-day standards does not allow us to see how significant they may have been in their own day.'\n",
    "B = 'This entailed relating the progressive accumulation of breakthroughs and discoveries. Only that which survived in some form in the present was considered relevant. In the mid-1950s, however, a number of faults in this view of history became apparent. Closer analysis of scientific discoveries, for instance, led historians to ask whether the dates of discoveries and their discoverers can be identified precisely.'\n",
    "C =  'Nor does the traditional view recognise the role that non-intellectual factors, especially institutional and socio-economic ones, play in scientific developments. Most importantly, however, the traditional historian of science seems blind to the fact that the concepts, questions and standards that they use to frame the past are themselves subject to historical change.'"
   ]
  },
  {
   "cell_type": "code",
   "execution_count": 209,
   "id": "satellite-transcript",
   "metadata": {},
   "outputs": [
    {
     "name": "stdout",
     "output_type": "stream",
     "text": [
      "Traditionally, Kuhn claims, the primary goal of historians of science was ‘to clarify and deepen an understanding of contemporary scientific methods or concepts by displaying their evolution’. \n",
      " >>>  Some discoveries seem to entail numerous phases and discoverers, none of which can be identified as definitive. Furthermore, the evaluation of past discoveries and discoverers according to present-day standards does not allow us to see how significant they may have been in their own day.\n",
      "tensor([[9.9997e-01, 3.1038e-05]], grad_fn=<SoftmaxBackward>)\n",
      "Traditionally, Kuhn claims, the primary goal of historians of science was ‘to clarify and deepen an understanding of contemporary scientific methods or concepts by displaying their evolution’. \n",
      " >>>  This entailed relating the progressive accumulation of breakthroughs and discoveries. Only that which survived in some form in the present was considered relevant. In the mid-1950s, however, a number of faults in this view of history became apparent. Closer analysis of scientific discoveries, for instance, led historians to ask whether the dates of discoveries and their discoverers can be identified precisely.\n",
      "tensor([[9.9999e-01, 1.3116e-05]], grad_fn=<SoftmaxBackward>)\n",
      "Traditionally, Kuhn claims, the primary goal of historians of science was ‘to clarify and deepen an understanding of contemporary scientific methods or concepts by displaying their evolution’. \n",
      " >>>  Nor does the traditional view recognise the role that non-intellectual factors, especially institutional and socio-economic ones, play in scientific developments. Most importantly, however, the traditional historian of science seems blind to the fact that the concepts, questions and standards that they use to frame the past are themselves subject to historical change.\n",
      "tensor([[9.9999e-01, 1.3281e-05]], grad_fn=<SoftmaxBackward>)\n"
     ]
    }
   ],
   "source": [
    "nsp(first, A)\n",
    "nsp(first, B)\n",
    "nsp(first, C)"
   ]
  },
  {
   "cell_type": "code",
   "execution_count": 212,
   "id": "coordinated-percentage",
   "metadata": {},
   "outputs": [
    {
     "name": "stdout",
     "output_type": "stream",
     "text": [
      "Traditionally, Kuhn claims, the primary goal of historians of science was ‘to clarify and deepen an understanding of contemporary scientific methods or concepts by displaying their evolution’. This entailed relating the progressive accumulation of breakthroughs and discoveries. Only that which survived in some form in the present was considered relevant. In the mid-1950s, however, a number of faults in this view of history became apparent. Closer analysis of scientific discoveries, for instance, led historians to ask whether the dates of discoveries and their discoverers can be identified precisely. \n",
      " >>>  Some discoveries seem to entail numerous phases and discoverers, none of which can be identified as definitive. Furthermore, the evaluation of past discoveries and discoverers according to present-day standards does not allow us to see how significant they may have been in their own day.\n",
      "tensor([[9.9999e-01, 1.0861e-05]], grad_fn=<SoftmaxBackward>)\n",
      "Traditionally, Kuhn claims, the primary goal of historians of science was ‘to clarify and deepen an understanding of contemporary scientific methods or concepts by displaying their evolution’. This entailed relating the progressive accumulation of breakthroughs and discoveries. Only that which survived in some form in the present was considered relevant. In the mid-1950s, however, a number of faults in this view of history became apparent. Closer analysis of scientific discoveries, for instance, led historians to ask whether the dates of discoveries and their discoverers can be identified precisely. \n",
      " >>>  Nor does the traditional view recognise the role that non-intellectual factors, especially institutional and socio-economic ones, play in scientific developments. Most importantly, however, the traditional historian of science seems blind to the fact that the concepts, questions and standards that they use to frame the past are themselves subject to historical change.\n",
      "tensor([[9.9999e-01, 1.3584e-05]], grad_fn=<SoftmaxBackward>)\n"
     ]
    }
   ],
   "source": [
    "nsp(first +' ' + B, A)\n",
    "nsp(first + ' ' + B, C)"
   ]
  },
  {
   "cell_type": "code",
   "execution_count": 402,
   "id": "forced-conservative",
   "metadata": {},
   "outputs": [],
   "source": [
    "# 2020 수능 영어 짝수형 37번 - 2번: BAC\n",
    "\n",
    "first = 'Traditionally, Kuhn claims, the primary goal of historians of science was ‘to clarify and deepen an understanding of contemporary scientific methods or concepts by displaying their evolution’.'\n",
    "sentences = {'A': 'Some discoveries seem to entail numerous phases and discoverers, none of which can be identified as definitive. Furthermore, the evaluation of past discoveries and discoverers according to present-day standards does not allow us to see how significant they may have been in their own day.',\n",
    "             'B': 'This entailed relating the progressive accumulation of breakthroughs and discoveries. Only that which survived in some form in the present was considered relevant. In the mid-1950s, however, a number of faults in this view of history became apparent. Closer analysis of scientific discoveries, for instance, led historians to ask whether the dates of discoveries and their discoverers can be identified precisely.',\n",
    "             'C': 'Nor does the traditional view recognise the role that non-intellectual factors, especially institutional and socio-economic ones, play in scientific developments. Most importantly, however, the traditional historian of science seems blind to the fact that the concepts, questions and standards that they use to frame the past are themselves subject to historical change.'}\n",
    "\n",
    "def sentence_order(first,sentences):\n",
    "    sentence = sentences.copy()\n",
    "    start = first\n",
    "    answer_sent = [first]\n",
    "    answer_index = []\n",
    "    \n",
    "    while len(sentence) > 1:\n",
    "        sent_dic = {}\n",
    "        for s_key in sentence.keys():\n",
    "            false_prob = nsp(start, sentence[s_key])[0][1]\n",
    "            sent_dic[s_key] = false_prob\n",
    "            \n",
    "        min_prob = min(sent_dic.items(), key=lambda x: x[1])\n",
    "\n",
    "        start = start +' '+sentence[min_prob[0]]\n",
    "\n",
    "        answer_index.append(min_prob[0])\n",
    "        answer_sent.append(sentence.pop(min_prob[0]))\n",
    "        \n",
    "    # last sentence append\n",
    "    answer_sent.append(list(sentence.values())[0])\n",
    "    answer_index.append(list(sentence.keys())[0])\n",
    "    \n",
    "    return answer_sent, answer_index\n",
    "\n",
    "\n",
    "sentence_order(first, sentences)"
   ]
  }
 ],
 "metadata": {
  "kernelspec": {
   "display_name": "Python 3",
   "language": "python",
   "name": "python3"
  },
  "language_info": {
   "codemirror_mode": {
    "name": "ipython",
    "version": 3
   },
   "file_extension": ".py",
   "mimetype": "text/x-python",
   "name": "python",
   "nbconvert_exporter": "python",
   "pygments_lexer": "ipython3",
   "version": "3.6.9"
  }
 },
 "nbformat": 4,
 "nbformat_minor": 5
}
